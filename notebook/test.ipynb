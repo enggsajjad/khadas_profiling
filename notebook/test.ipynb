{
 "cells": [
  {
   "cell_type": "code",
   "execution_count": null,
   "metadata": {},
   "outputs": [],
   "source": [
    "\n",
    "#import numpy as np\n",
    "\n",
    "#import mymodule as  modu\n"
   ]
  },
  {
   "cell_type": "code",
   "execution_count": null,
   "metadata": {},
   "outputs": [],
   "source": [
    "#x = np.array([2,4,6,8])\n",
    "#modu.my_mean(x)"
   ]
  },
  {
   "cell_type": "code",
   "execution_count": null,
   "metadata": {},
   "outputs": [],
   "source": [
    "import docker as docker_sdk\n",
    "\n",
    "\n",
    "docker = docker_sdk.from_env()\n",
    "\n",
    "docker.containers.run(image='ghcr.io/scholz/aml-container:0.0.1',\n",
    "command='--rm  -it',\n",
    "entrypoint='/acuity-toolkit/convertdemo/network/convert-mnist-onnx-to-khadas.sh',\n",
    "name='ghcr.io/scholz/aml-container:0.0.1',\n",
    "hostname='khadas',\n",
    "volumes={'/acuity-toolkit/convertdemo': {'bind': '/home/sajjad/sajjad/scripts/convertdemo','mode': 'rw'}\n",
    "                      },                                                                                                                                                                \n",
    "                      detach=True)"
   ]
  },
  {
   "cell_type": "code",
   "execution_count": null,
   "metadata": {},
   "outputs": [],
   "source": [
    "import subprocess\n",
    "from subprocess import DEVNULL, STDOUT\n",
    "subprocess.call([\"docker run --rm --name conv-test  --mount type=bind,source=/home/sajjad/sajjad/scripts/convertdemo,target=/acuity-toolkit/convertdemo --entrypoint=/acuity-toolkit/convertdemo/network/convert-mnist-onnx-to-khadas.sh  ghcr.io/scholz/aml-container:0.0.1\"],shell=True)\n"
   ]
  },
  {
   "cell_type": "code",
   "execution_count": 1,
   "metadata": {},
   "outputs": [
    {
     "name": "stdout",
     "output_type": "stream",
     "text": [
      "CompletedProcess(args=['../scripts/perform_r6.sh', '10', '../convertdemo/dataset/rand_2.jpg', '../logs/model_execution.log'], returncode=0)\n"
     ]
    }
   ],
   "source": [
    "import subprocess\n",
    "from subprocess import DEVNULL, STDOUT\n",
    "#sajjad@teco:~/sajjad/scripts/notebook$ ../scripts/perform_r6.sh 10 ../convertdemo/dataset/rand_2.jpg ../logs/model_execution.log\n",
    "\n",
    "#subprocess.check_call([\"../scripts/perform_r6.sh\", \"10\", \"../convertdemo/dataset/rand_2.jpg\",\"../logs/model_execution.log\"])\n",
    "r = subprocess.run([\"../scripts/perform_r6.sh\", \"10\", \"../convertdemo/dataset/rand_2.jpg\",\"../logs/model_execution.log\"], stdout=DEVNULL, stderr=STDOUT)\n",
    "print(r)"
   ]
  },
  {
   "cell_type": "code",
   "execution_count": null,
   "metadata": {},
   "outputs": [],
   "source": [
    "import subprocess\n",
    "from subprocess import DEVNULL, STDOUT\n",
    "#sajjad@teco:~/sajjad/scripts/notebook$ ../scripts/perform_r6.sh 10 ../convertdemo/dataset/rand_2.jpg ../logs/model_execution.log\n",
    "\n",
    "#subprocess.check_call([\"../scripts/perform_r6.sh\", \"10\", \"../convertdemo/dataset/rand_2.jpg\",\"../logs/model_execution.log\"])\n",
    "subprocess.run([\"../scripts/perform_test.sh\", \"10\", \"../convertdemo/dataset/rand_2.jpg\",\"../logs/model_execution.log\"])"
   ]
  }
 ],
 "metadata": {
  "kernelspec": {
   "display_name": "Python 3.9.14 64-bit",
   "language": "python",
   "name": "python3"
  },
  "language_info": {
   "codemirror_mode": {
    "name": "ipython",
    "version": 3
   },
   "file_extension": ".py",
   "mimetype": "text/x-python",
   "name": "python",
   "nbconvert_exporter": "python",
   "pygments_lexer": "ipython3",
   "version": "3.9.14"
  },
  "orig_nbformat": 4,
  "vscode": {
   "interpreter": {
    "hash": "767d51c1340bd893661ea55ea3124f6de3c7a262a8b4abca0554b478b1e2ff90"
   }
  }
 },
 "nbformat": 4,
 "nbformat_minor": 2
}
